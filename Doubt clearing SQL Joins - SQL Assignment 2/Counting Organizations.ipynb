{
 "cells": [
  {
   "cell_type": "code",
   "execution_count": 1,
   "id": "9d369c8c",
   "metadata": {},
   "outputs": [
    {
     "name": "stdout",
     "output_type": "stream",
     "text": [
      "Requirement already satisfied: mysql in c:\\users\\shashank\\anaconda3\\lib\\site-packages (0.0.3)\n",
      "Requirement already satisfied: mysqlclient in c:\\users\\shashank\\anaconda3\\lib\\site-packages (from mysql) (2.2.4)\n",
      "Note: you may need to restart the kernel to use updated packages.\n"
     ]
    }
   ],
   "source": [
    "pip install mysql"
   ]
  },
  {
   "cell_type": "code",
   "execution_count": 2,
   "id": "d85f8c9f",
   "metadata": {},
   "outputs": [
    {
     "name": "stdout",
     "output_type": "stream",
     "text": [
      "Requirement already satisfied: mysql-connector-python in c:\\users\\shashank\\anaconda3\\lib\\site-packages (8.4.0)\n",
      "Note: you may need to restart the kernel to use updated packages.\n"
     ]
    }
   ],
   "source": [
    "pip install mysql-connector-python"
   ]
  },
  {
   "cell_type": "code",
   "execution_count": 3,
   "id": "ae51f9cb",
   "metadata": {},
   "outputs": [
    {
     "name": "stdout",
     "output_type": "stream",
     "text": [
      "Connected to the database\n",
      "Counts:\n",
      "iupui.edu 8\n",
      "umich.edu 7\n",
      "uct.ac.za 6\n",
      "media.berkeley.edu 4\n",
      "caret.cam.ac.uk 1\n",
      "gmail.com 1\n",
      "\n",
      "Table Structure:\n",
      "('org', 'varchar(255)', 'YES', '', None, '')\n",
      "('count', 'int', 'YES', '', None, '')\n",
      "\n",
      "Table Content:\n",
      "('uct.ac.za', 6)\n",
      "('media.berkeley.edu', 4)\n",
      "('umich.edu', 7)\n",
      "('iupui.edu', 8)\n",
      "('caret.cam.ac.uk', 1)\n",
      "('gmail.com', 1)\n",
      "Connection closed\n"
     ]
    }
   ],
   "source": [
    "import mysql.connector\n",
    "from mysql.connector import Error\n",
    "\n",
    "try:\n",
    "    # Connect to the MySQL database\n",
    "    conn = mysql.connector.connect(\n",
    "        host='127.0.0.1',    # Replace with your host\n",
    "        user='root',         # Replace with your username\n",
    "        password='Admin@123', # Replace with your password\n",
    "        database='eduonix',  # Replace with your database name\n",
    "        port=3306            # Default MySQL port\n",
    "    )\n",
    "\n",
    "    if conn.is_connected():\n",
    "        print(\"Connected to the database\")\n",
    "    \n",
    "    cur = conn.cursor()\n",
    "\n",
    "    # Create the Counts table\n",
    "    cur.execute('''\n",
    "    DROP TABLE IF EXISTS Counts''')\n",
    "\n",
    "    cur.execute('''\n",
    "    CREATE TABLE Counts (org VARCHAR(255), count INTEGER)''')\n",
    "\n",
    "    # Function to extract the domain from an email address\n",
    "    def get_domain(email):\n",
    "        try:\n",
    "            return email.split('@')[1]\n",
    "        except IndexError:\n",
    "            return None\n",
    "\n",
    "    # Read the mbox.txt file\n",
    "    file_name = 'mbox.txt'\n",
    "    try:\n",
    "        fhand = open(file_name)\n",
    "    except:\n",
    "        print(f\"File cannot be opened: {file_name}\")\n",
    "        quit()\n",
    "\n",
    "    # Dictionary to store domain counts\n",
    "    counts = {}\n",
    "\n",
    "    # Process each line in the file\n",
    "    for line in fhand:\n",
    "        if line.startswith('From: '):\n",
    "            email = line.split()[1]\n",
    "            domain = get_domain(email)\n",
    "            if domain:\n",
    "                counts[domain] = counts.get(domain, 0) + 1\n",
    "\n",
    "    # Insert or update counts in the database\n",
    "    for domain, count in counts.items():\n",
    "        cur.execute('SELECT count FROM Counts WHERE org = %s', (domain,))\n",
    "        row = cur.fetchone()\n",
    "        if row is None:\n",
    "            cur.execute('''INSERT INTO Counts (org, count)\n",
    "                    VALUES (%s, %s)''', (domain, count))\n",
    "        else:\n",
    "            cur.execute('UPDATE Counts SET count = count + %s WHERE org = %s', (count, domain))\n",
    "\n",
    "    # Commit the changes to the database\n",
    "    conn.commit()\n",
    "\n",
    "    # Print the counts\n",
    "    cur.execute('SELECT org, count FROM Counts ORDER BY count DESC')\n",
    "\n",
    "    print(\"Counts:\")\n",
    "    for row in cur:\n",
    "        print(str(row[0]), row[1])\n",
    "\n",
    "    # Print the table structure\n",
    "    print(\"\\nTable Structure:\")\n",
    "    cur.execute('DESCRIBE Counts')\n",
    "    for row in cur.fetchall():\n",
    "        print(row)\n",
    "\n",
    "    # Print the table content\n",
    "    print(\"\\nTable Content:\")\n",
    "    cur.execute('SELECT * FROM Counts')\n",
    "    for row in cur.fetchall():\n",
    "        print(row)\n",
    "\n",
    "except Error as e:\n",
    "    print(f\"Error: {e}\")\n",
    "finally:\n",
    "    if conn.is_connected():\n",
    "        cur.close()\n",
    "        conn.close()\n",
    "        print(\"Connection closed\")\n"
   ]
  }
 ],
 "metadata": {
  "kernelspec": {
   "display_name": "Python 3 (ipykernel)",
   "language": "python",
   "name": "python3"
  },
  "language_info": {
   "codemirror_mode": {
    "name": "ipython",
    "version": 3
   },
   "file_extension": ".py",
   "mimetype": "text/x-python",
   "name": "python",
   "nbconvert_exporter": "python",
   "pygments_lexer": "ipython3",
   "version": "3.11.5"
  }
 },
 "nbformat": 4,
 "nbformat_minor": 5
}
