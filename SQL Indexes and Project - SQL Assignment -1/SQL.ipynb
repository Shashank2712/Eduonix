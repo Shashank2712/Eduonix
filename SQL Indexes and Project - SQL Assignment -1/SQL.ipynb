{
 "cells": [
  {
   "cell_type": "code",
   "execution_count": 1,
   "id": "8095c927",
   "metadata": {},
   "outputs": [
    {
     "name": "stdout",
     "output_type": "stream",
     "text": [
      "Connected to the database\n",
      "('Mara', 28)\n",
      "('Otto', 33)\n",
      "('Fyn', 31)\n",
      "('Neshawn', 17)\n"
     ]
    }
   ],
   "source": [
    "import mysql.connector\n",
    "from mysql.connector import Error\n",
    "\n",
    "try:\n",
    "    # Connect to the MySQL database\n",
    "    conn = mysql.connector.connect(\n",
    "        host='127.0.0.1',    # Replace with your host\n",
    "        user='root',         # Replace with your username\n",
    "        password='Admin@123', # Replace with your password\n",
    "        database='eduonix',  # Replace with your database name\n",
    "        port=3306            # Default MySQL port\n",
    "    )\n",
    "\n",
    "    if conn.is_connected():\n",
    "        print(\"Connected to the database\")\n",
    "    \n",
    "    cur = conn.cursor()\n",
    "\n",
    "    # Drop the Ages table if it exists\n",
    "    cur.execute('''\n",
    "    DROP TABLE IF EXISTS Ages''')\n",
    "\n",
    "    # Create the Ages table\n",
    "    cur.execute('''\n",
    "    CREATE TABLE Ages (name VARCHAR(255), age INTEGER)''')\n",
    "\n",
    "    # Insert sample data into the Ages table\n",
    "    cur.execute(\"INSERT INTO Ages (name, age) VALUES ('Mara', 28)\")\n",
    "    cur.execute(\"INSERT INTO Ages (name, age) VALUES ('Otto', 33)\")\n",
    "    cur.execute(\"INSERT INTO Ages (name, age) VALUES ('Fyn', 31)\")\n",
    "    cur.execute(\"INSERT INTO Ages (name, age) VALUES ('Neshawn', 17)\")\n",
    "\n",
    "    # Commit the transaction\n",
    "    conn.commit()\n",
    "\n",
    "    # Retrieve and display the data\n",
    "    cur.execute(\"SELECT * FROM Ages\")\n",
    "    rows = cur.fetchall()\n",
    "\n",
    "    for row in rows:\n",
    "        print(row)\n",
    "\n",
    "except Error as e:\n",
    "    print(\"Error while connecting to MySQL\", e)\n",
    "\n",
    "# finally:\n",
    "#     if conn.is_connected():\n",
    "#         cur.close()\n",
    "#         conn.close()\n",
    "#         print(\"MySQL connection is closed\")\n"
   ]
  },
  {
   "cell_type": "code",
   "execution_count": 2,
   "id": "bce654d8",
   "metadata": {},
   "outputs": [],
   "source": [
    "conn.commit()"
   ]
  },
  {
   "cell_type": "code",
   "execution_count": 3,
   "id": "ebddb582",
   "metadata": {},
   "outputs": [
    {
     "name": "stdout",
     "output_type": "stream",
     "text": [
      "('46796E', '1F')\n",
      "('4D617261', '1C')\n",
      "('4E65736861776E', '11')\n",
      "('4F74746F', '21')\n"
     ]
    }
   ],
   "source": [
    "cur.execute(\"SELECT hex(name) AS name_hex, hex(age) AS age_hex FROM Ages ORDER BY name_hex, age_hex\")\n",
    "rows = cur.fetchall()\n",
    "\n",
    "for row in rows:\n",
    "    print(row)"
   ]
  },
  {
   "cell_type": "code",
   "execution_count": 4,
   "id": "8b591770",
   "metadata": {},
   "outputs": [
    {
     "name": "stdout",
     "output_type": "stream",
     "text": [
      "MySQL connection is closed\n"
     ]
    }
   ],
   "source": [
    "if conn.is_connected():\n",
    "    cur.close()\n",
    "    conn.close()\n",
    "    print(\"MySQL connection is closed\")"
   ]
  },
  {
   "cell_type": "code",
   "execution_count": null,
   "id": "d8351e22",
   "metadata": {},
   "outputs": [],
   "source": []
  }
 ],
 "metadata": {
  "kernelspec": {
   "display_name": "Python 3 (ipykernel)",
   "language": "python",
   "name": "python3"
  },
  "language_info": {
   "codemirror_mode": {
    "name": "ipython",
    "version": 3
   },
   "file_extension": ".py",
   "mimetype": "text/x-python",
   "name": "python",
   "nbconvert_exporter": "python",
   "pygments_lexer": "ipython3",
   "version": "3.11.5"
  }
 },
 "nbformat": 4,
 "nbformat_minor": 5
}
